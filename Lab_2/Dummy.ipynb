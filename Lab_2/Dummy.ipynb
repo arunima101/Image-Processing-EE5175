{
 "cells": [
  {
   "cell_type": "code",
   "execution_count": 2,
   "id": "06336238",
   "metadata": {},
   "outputs": [],
   "source": [
    "import numpy as np\n",
    "import imageio\n",
    "import matplotlib.pyplot as plt\n",
    "import sys"
   ]
  },
  {
   "cell_type": "code",
   "execution_count": 3,
   "id": "d89061fa",
   "metadata": {},
   "outputs": [],
   "source": [
    "def floor(value):\n",
    "    # example of how the int function works\n",
    "    # int(1.3) = 1, int(3.8) = 3\n",
    "    # int(-0.1) = 0, int(-4.8) = -4\n",
    "    if value >= 0:\n",
    "        return int(value)\n",
    "    else:\n",
    "        return int(value)-1"
   ]
  },
  {
   "cell_type": "code",
   "execution_count": 4,
   "id": "e1645904",
   "metadata": {},
   "outputs": [],
   "source": [
    "def bilinear_interpolate(zero_padded_source_image, x, y):\n",
    "    # shape of the zero padded image\n",
    "    dx, dy = np.shape(zero_padded_source_image)\n",
    "    # get the shape of the original image\n",
    "    dx, dy = dx-2, dy-2\n",
    "    # +1 as we are taking coordinates with respect to a zero padded image\n",
    "    x, y = x+1, y+1\n",
    "\n",
    "    # x', y', a, b as defined in the lecture\n",
    "    x_prime, y_prime = floor(x), floor(y)\n",
    "    a = x-x_prime\n",
    "    b = y-y_prime\n",
    "\n",
    "    if x_prime >= 0 and x_prime <= dx and y_prime >= 0 and y_prime <= dy:\n",
    "        # intensity value using bilinear interpolation\n",
    "        intensity_val = (1-a)*(1-b)*zero_padded_source_image[x_prime, y_prime] \\\n",
    "            + (1-a)*b*zero_padded_source_image[x_prime, y_prime+1] \\\n",
    "            + a*(1-b)*zero_padded_source_image[x_prime+1, y_prime] \\\n",
    "            + a*b*zero_padded_source_image[x_prime+1, y_prime+1]\n",
    "    else:\n",
    "        # If the (xs, ys) does not exist in the source image, assign 0\n",
    "        # for the corresponding (xt, yt) in the target image\n",
    "        intensity_val = 0\n",
    "\n",
    "    return intensity_val"
   ]
  },
  {
   "cell_type": "code",
   "execution_count": 5,
   "id": "92cc082f",
   "metadata": {},
   "outputs": [],
   "source": [
    "def corresponding_points_2D(H, x):\n",
    "    # x is of the form [x1, y1, 1], i.e., in homogenous coordinates.\n",
    "    #  H is the homography matrix \n",
    "    x_prime = H@x\n",
    "    if x_prime[-1]!=0:\n",
    "        # return in non homogenous coordinates\n",
    "        return x_prime[0]/x_prime[-1], x_prime[1]/x_prime[-1]\n",
    "    else:\n",
    "        # Homognous coordinates of the form [a, b, c] can be  \n",
    "        # converted to non homogenous only if c!=0. In case that condition is\n",
    "        # violated, we set the non homogenous coordinates to (0,0) even though\n",
    "        # in reality such a point does not have a finite representation in\n",
    "        # non homogenous coordinates\n",
    "        return 0, 0"
   ]
  },
  {
   "cell_type": "code",
   "execution_count": 6,
   "id": "bd27c443",
   "metadata": {},
   "outputs": [],
   "source": [
    "def A_matrix(points, corresponding_points):\n",
    "    # Check that the number of points and their corresponding\n",
    "    # points is equal\n",
    "    assert len(points) == len(corresponding_points), \"Mismatch in number of points\"\n",
    "    n_correspondances = len(points)\n",
    "    # from each point correspondance we get two values\n",
    "    A_mat = np.zeros((2*n_correspondances, 5))\n",
    "    for i in range(n_correspondances):\n",
    "        x, y = points[i]\n",
    "        x_prime, y_prime = corresponding_points[i]\n",
    "        # As defined above\n",
    "        A_mat[2*i] = [x, y, 1, 0, -x_prime]\n",
    "        A_mat[2*i+1] = [y, -x, 0, 1, -y_prime]\n",
    "    return A_mat"
   ]
  },
  {
   "cell_type": "code",
   "execution_count": 7,
   "id": "27f40820",
   "metadata": {},
   "outputs": [],
   "source": [
    "def compute_homography(A_matrix):\n",
    "    # NumPy SVD gives singular values in decreasing order\n",
    "    u, s, v_transpose = np.linalg.svd(A_matrix)\n",
    "    # take the last row of v_transpose\n",
    "    a, b, c, d, h = v_transpose[-1]\n",
    "    # construct the appropriate 3x3 matrix\n",
    "    H = np.array([[a, b, c], [-b, a, d], [0, 0, h]]).reshape(3,3)\n",
    "    return H  "
   ]
  },
  {
   "cell_type": "code",
   "execution_count": 8,
   "id": "55a7b961",
   "metadata": {},
   "outputs": [],
   "source": [
    "def transform_image(source_image, H):\n",
    "    # zero padding the image for bilinear interpolation\n",
    "    x, y = np.shape(source_image)\n",
    "    image = np.zeros((x+2, y+2))\n",
    "    image[1:-1, 1:-1] = source_image\n",
    "    # Compute inv(H) to map target coordinates to source coordinates\n",
    "    H_inv = np.linalg.inv(H)\n",
    "\n",
    "    target_image = np.zeros((x, y))\n",
    "\n",
    "    for xt in range(x):\n",
    "        for yt in range(y):\n",
    "            # convert to homogenous coordinates\n",
    "            vec = np.array([xt, yt, 1])\n",
    "            # calculate the corresponding points for\n",
    "            # (xt, yt) in the source image\n",
    "            xs, ys = corresponding_points_2D(H_inv, vec)\n",
    "            # Assign the value using bilinear interpolation\n",
    "            val = bilinear_interpolate(image, xs, ys)\n",
    "            target_image[xt, yt] = val\n",
    "\n",
    "    return target_image\n"
   ]
  },
  {
   "cell_type": "code",
   "execution_count": 9,
   "id": "0d9e1e8e",
   "metadata": {},
   "outputs": [],
   "source": [
    "img1 = imageio.imread(\"IMG1.png\")\n",
    "img2 = imageio.imread(\"IMG2.png\")"
   ]
  },
  {
   "cell_type": "code",
   "execution_count": 10,
   "id": "9bed1559",
   "metadata": {},
   "outputs": [],
   "source": [
    "points = np.array([[29, 124], [157, 372]])\n",
    "corresponding_points = np.array([[93, 248], [328, 399]])\n",
    "assert len(points) == len(\n",
    "    corresponding_points), \"Number of points is not the same as the number of corresponding points\"\n",
    "n_correspondances = len(points)"
   ]
  },
  {
   "cell_type": "code",
   "execution_count": 11,
   "id": "3c893ad2",
   "metadata": {},
   "outputs": [],
   "source": [
    "A = A_matrix(corresponding_points, points)\n",
    "H = compute_homography(A)\n",
    "new_image = transform_image(img2, H)"
   ]
  },
  {
   "cell_type": "code",
   "execution_count": 12,
   "id": "08df0731",
   "metadata": {},
   "outputs": [
    {
     "data": {
      "text/plain": [
       "array([[  93.,  248.,    1.,    0.,  -29.],\n",
       "       [ 248.,  -93.,    0.,    1., -124.],\n",
       "       [ 328.,  399.,    1.,    0., -157.],\n",
       "       [ 399., -328.,    0.,    1., -372.]])"
      ]
     },
     "execution_count": 12,
     "metadata": {},
     "output_type": "execute_result"
    }
   ],
   "source": [
    "A"
   ]
  },
  {
   "cell_type": "code",
   "execution_count": 13,
   "id": "8ff2cc47",
   "metadata": {},
   "outputs": [
    {
     "data": {
      "text/plain": [
       "array([[ 0.00558445, -0.00322127,  0.46664576],\n",
       "       [ 0.00322127,  0.00558445, -0.88439727],\n",
       "       [ 0.        ,  0.        ,  0.00645262]])"
      ]
     },
     "execution_count": 13,
     "metadata": {},
     "output_type": "execute_result"
    }
   ],
   "source": [
    "H"
   ]
  },
  {
   "cell_type": "code",
   "execution_count": null,
   "id": "d6fa4ad5",
   "metadata": {},
   "outputs": [],
   "source": []
  }
 ],
 "metadata": {
  "kernelspec": {
   "display_name": "Python 3 (ipykernel)",
   "language": "python",
   "name": "python3"
  },
  "language_info": {
   "codemirror_mode": {
    "name": "ipython",
    "version": 3
   },
   "file_extension": ".py",
   "mimetype": "text/x-python",
   "name": "python",
   "nbconvert_exporter": "python",
   "pygments_lexer": "ipython3",
   "version": "3.8.10"
  }
 },
 "nbformat": 4,
 "nbformat_minor": 5
}
